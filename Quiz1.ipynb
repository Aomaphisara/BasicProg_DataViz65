{
  "nbformat": 4,
  "nbformat_minor": 0,
  "metadata": {
    "colab": {
      "name": "Quiz1.ipynb",
      "provenance": [],
      "authorship_tag": "ABX9TyNJFUpZK7oRsM7/RyGpOUVV",
      "include_colab_link": true
    },
    "kernelspec": {
      "name": "python3",
      "display_name": "Python 3"
    },
    "language_info": {
      "name": "python"
    }
  },
  "cells": [
    {
      "cell_type": "markdown",
      "metadata": {
        "id": "view-in-github",
        "colab_type": "text"
      },
      "source": [
        "<a href=\"https://colab.research.google.com/github/Aomaphisara/BasicProg_DataViz65/blob/main/Quiz1.ipynb\" target=\"_parent\"><img src=\"https://colab.research.google.com/assets/colab-badge.svg\" alt=\"Open In Colab\"/></a>"
      ]
    },
    {
      "cell_type": "markdown",
      "source": [
        "# Quiz 1\n",
        "### คำนวณเวลาเป็นความต่างของเวลาเป็นวินาทีของช่วงเวลาต่อไปนี้โดยใช้คำสั่ง split() ช่วย และ print ออกมาให้สวยงาม\n",
        "- 09:11:50 - 12:30:15\n",
        "- 13:41:07 - 20:00:18\n",
        "- 21:30:15 - 00:00:00\n",
        "- 00:00:00 -23:59:59\n",
        "\n"
      ],
      "metadata": {
        "id": "wVqZgTc68R9u"
      }
    },
    {
      "cell_type": "code",
      "source": [
        "#ข้อ 1 09:11:50 - 12:30:15\n",
        "A ='09:11:50'\n",
        "A_sp = A.split(':')\n",
        "print(A_sp)\n",
        "AW1=int(A_sp[0])*60*60+int(A_sp[1])*60 + int(A_sp[2])\n",
        "\n",
        "a ='12:30:15'\n",
        "a_sp = a.split(':')\n",
        "print(a_sp)\n",
        "AW2=int(a_sp[0])*60*60+int(a_sp[1])*60 + int(a_sp[2])\n",
        "print(f'{A}-{a} ความต่างของเวลาเป็นวินาทีเท่ากับ {AW2-AW1} วินาที')"
      ],
      "metadata": {
        "colab": {
          "base_uri": "https://localhost:8080/"
        },
        "id": "7UU0PD2L_uDK",
        "outputId": "9fef94f4-019f-4401-8fac-99a6830989bc"
      },
      "execution_count": 26,
      "outputs": [
        {
          "output_type": "stream",
          "name": "stdout",
          "text": [
            "['09', '11', '50']\n",
            "['12', '30', '15']\n",
            "09:11:50-12:30:15 ความต่างของเวลาเป็นวินาทีเท่ากับ 11905 วินาที\n"
          ]
        }
      ]
    },
    {
      "cell_type": "code",
      "source": [
        "#ข้อ 2 13:41:07 - 20:00:18\n",
        "B ='13:41:07'\n",
        "B_sp = B.split(':')\n",
        "print(B_sp)\n",
        "AW1=int(B_sp[0])*60*60+int(B_sp[1])*60 + int(B_sp[2])\n",
        "\n",
        "b ='20:00:18'\n",
        "b_sp = b.split(':')\n",
        "print(b_sp)\n",
        "AW2=int(b_sp[0])*60*60+int(b_sp[1])*60 + int(b_sp[2])\n",
        "print(f'{B}-{b} ความต่างของเวลาเป็นวินาทีเท่ากับ {AW2-AW1} วินาที')"
      ],
      "metadata": {
        "colab": {
          "base_uri": "https://localhost:8080/"
        },
        "id": "LBNB_HaJUnHL",
        "outputId": "3f4604ef-71b1-4929-c0f2-64c7de4da0df"
      },
      "execution_count": 27,
      "outputs": [
        {
          "output_type": "stream",
          "name": "stdout",
          "text": [
            "['13', '41', '07']\n",
            "['20', '00', '18']\n",
            "13:41:07-20:00:18 ความต่างของเวลาเป็นวินาทีเท่ากับ 22751 วินาที\n"
          ]
        }
      ]
    },
    {
      "cell_type": "code",
      "source": [
        "#ข้อ 3 21:30:15 - 00:00:00\n",
        "C ='21:30:15'\n",
        "C_sp = C.split(':')\n",
        "print(C_sp)\n",
        "AW1=int(C_sp[0])*60*60+int(C_sp[1])*60 + int(C_sp[2])\n",
        "\n",
        "c ='24:00:00'\n",
        "c_sp =c.split(':')\n",
        "print(c_sp)\n",
        "AW2=int(c_sp[0])*60*60+int(c_sp[1])*60 + int(c_sp[2])\n",
        "print(f'{C}-{c} ความต่างของเวลาเป็นวินาทีเท่ากับ {AW2-AW1} วินาที')"
      ],
      "metadata": {
        "colab": {
          "base_uri": "https://localhost:8080/"
        },
        "id": "BN7iRWYFU7xY",
        "outputId": "089352cd-842e-4e88-e0a9-92c7d2454d93"
      },
      "execution_count": 28,
      "outputs": [
        {
          "output_type": "stream",
          "name": "stdout",
          "text": [
            "['21', '30', '15']\n",
            "['24', '00', '00']\n",
            "21:30:15-24:00:00 ความต่างของเวลาเป็นวินาทีเท่ากับ 8985 วินาที\n"
          ]
        }
      ]
    },
    {
      "cell_type": "code",
      "source": [
        "#ข้อ 4  00:00:00 -23:59:59\n",
        "D ='24:00:00'\n",
        "D_sp = D.split(':')\n",
        "print(D_sp)\n",
        "AW1=int(D_sp[0])*60*60+int(D_sp[1])*60 + int(D_sp[2])\n",
        "\n",
        "d ='23:59:59'\n",
        "d_sp =d.split(':')\n",
        "print(d_sp)\n",
        "AW2=int(d_sp[0])*60*60+int(d_sp[1])*60 + int(d_sp[2])\n",
        "print(f'{D}-{d} ความต่างของเวลาเป็นวินาทีเท่ากับ {AW1-AW2} วินาที')"
      ],
      "metadata": {
        "colab": {
          "base_uri": "https://localhost:8080/"
        },
        "id": "NW9d4INKWyxc",
        "outputId": "041f81ec-2987-464b-9298-3348b179b86f"
      },
      "execution_count": 33,
      "outputs": [
        {
          "output_type": "stream",
          "name": "stdout",
          "text": [
            "['24', '00', '00']\n",
            "['23', '59', '59']\n",
            "24:00:00-23:59:59 ความต่างของเวลาเป็นวินาทีเท่ากับ 1 วินาที\n"
          ]
        }
      ]
    }
  ]
}
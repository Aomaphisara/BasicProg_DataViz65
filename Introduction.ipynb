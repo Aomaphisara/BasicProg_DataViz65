{
  "nbformat": 4,
  "nbformat_minor": 0,
  "metadata": {
    "colab": {
      "name": "Introduction.ipynb",
      "provenance": [],
      "authorship_tag": "ABX9TyPFSU8Tlj+g4uYcF+5xx/jz",
      "include_colab_link": true
    },
    "kernelspec": {
      "name": "python3",
      "display_name": "Python 3"
    },
    "language_info": {
      "name": "python"
    }
  },
  "cells": [
    {
      "cell_type": "markdown",
      "metadata": {
        "id": "view-in-github",
        "colab_type": "text"
      },
      "source": [
        "<a href=\"https://colab.research.google.com/github/Aomaphisara/BasicProg_DataViz65/blob/main/Introduction.ipynb\" target=\"_parent\"><img src=\"https://colab.research.google.com/assets/colab-badge.svg\" alt=\"Open In Colab\"/></a>"
      ]
    },
    {
      "cell_type": "code",
      "execution_count": null,
      "metadata": {
        "id": "6PXvZ43XFEP5"
      },
      "outputs": [],
      "source": [
        ""
      ]
    },
    {
      "cell_type": "markdown",
      "source": [
        "อภิสรา ปราบนอก (633020450-6)\n",
        "\n",
        "\n"
      ],
      "metadata": {
        "id": "jW2cofMMFbye"
      }
    },
    {
      "cell_type": "markdown",
      "source": [
        "#Markdown\n",
        "https://www.markdownguide.org/basic-syntax/\n"
      ],
      "metadata": {
        "id": "BdKszI3HGOOl"
      }
    },
    {
      "cell_type": "markdown",
      "source": [
        "##heading2\n",
        "\n",
        "\n"
      ],
      "metadata": {
        "id": "GtFi8f_SGzT6"
      }
    },
    {
      "cell_type": "code",
      "source": [
        "print('aphisara')"
      ],
      "metadata": {
        "colab": {
          "base_uri": "https://localhost:8080/"
        },
        "id": "RRAV7EztHEn3",
        "outputId": "e306e8a5-e75d-41e6-ddbf-c4090b2ec5b9"
      },
      "execution_count": null,
      "outputs": [
        {
          "output_type": "stream",
          "name": "stdout",
          "text": [
            "aphisara\n"
          ]
        }
      ]
    }
  ]
}